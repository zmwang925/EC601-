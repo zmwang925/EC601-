{
  "nbformat": 4,
  "nbformat_minor": 0,
  "metadata": {
    "colab": {
      "name": "Google_NLP_API_Project.ipynb",
      "provenance": []
    },
    "kernelspec": {
      "name": "python3",
      "display_name": "Python 3"
    },
    "language_info": {
      "name": "python"
    }
  },
  "cells": [
    {
      "cell_type": "markdown",
      "source": [
        "# Entity Identificaiton & Sentiment Analysis"
      ],
      "metadata": {
        "id": "d3XrErlQV2H6"
      }
    },
    {
      "cell_type": "markdown",
      "source": [
        "### Requirements and Assumptions\n",
        "- Python 3 is installed and basic Python syntax understood\n",
        "- Access to a Linux installation (I recommend Ubuntu) or Google Colab\n",
        "- Google Cloud Platform account\n",
        "- NLP API Enabled\n",
        "- Credentials created (service account) and JSON file downloaded"
      ],
      "metadata": {
        "id": "9oIHhXjxWVux"
      }
    },
    {
      "cell_type": "markdown",
      "source": [
        "## Get started"
      ],
      "metadata": {
        "id": "Doju6tX-WjgL"
      }
    },
    {
      "cell_type": "markdown",
      "source": [
        "### import modules\n",
        "If you are using Google Colab(like me), these modules are pre installed.\n",
        "If not, you will need to install Google NLP module\n",
        "\n",
        "- os – setting the environment variable for credentials\n",
        "- google.cloud – Google’s NLP modules\n",
        "- numpy – for a specific dictionary comparison function\n",
        "- matplotlib – for the scatter plots"
      ],
      "metadata": {
        "id": "2iQoSw5vPeBM"
      }
    },
    {
      "cell_type": "code",
      "execution_count": 17,
      "metadata": {
        "colab": {
          "base_uri": "https://localhost:8080/"
        },
        "id": "GatFvC_DJc4W",
        "outputId": "d724d6f3-0885-4cda-fa66-dda8bed24db8"
      },
      "outputs": [
        {
          "output_type": "stream",
          "name": "stdout",
          "text": [
            "Drive already mounted at /content/drive/; to attempt to forcibly remount, call drive.mount(\"/content/drive/\", force_remount=True).\n"
          ]
        }
      ],
      "source": [
        "import os\n",
        "from google.cloud import language_v1\n",
        "from google.cloud.language_v1 import enums\n",
        "\n",
        "from google.cloud import language\n",
        "from google.cloud.language import types\n",
        "\n",
        "import numpy as np\n",
        "import matplotlib.pyplot as plt\n",
        "from matplotlib.pyplot import figure\n",
        "\n",
        "from google.colab import drive\n",
        "drive.mount('/content/drive/')"
      ]
    },
    {
      "cell_type": "markdown",
      "source": [
        "### Set Authentication\n",
        "the credentials JSON file for the API from Google Developer\n"
      ],
      "metadata": {
        "id": "EQJUTdxcPdHU"
      }
    },
    {
      "cell_type": "code",
      "source": [
        "os.environ['GOOGLE_APPLICATION_CREDENTIALS'] = \"path_to_json_credentials_file\""
      ],
      "metadata": {
        "id": "hHArx9ibOyDf"
      },
      "execution_count": 18,
      "outputs": []
    },
    {
      "cell_type": "markdown",
      "source": [
        "### Identify Entities"
      ],
      "metadata": {
        "id": "hhu4PTGtQKJo"
      }
    },
    {
      "cell_type": "code",
      "source": [
        "# text_content = \"The key to successful internet marketing is to make decisions that make sense for your business, your company and your customers. We work with you to build a custom strategy that drives both visits and conversions.\"\n",
        "def identify_entities(text_content, language):\n",
        "  support_lang = {'zh', 'zh-Hant', 'en', 'fr', 'de', 'it', 'ja', 'ko', 'pt', 'ru', 'es'}\n",
        "  if language not in support_lang:\n",
        "    print('Language not support!')\n",
        "  elif (len(text_content) >= 100):\n",
        "    print('Text_content is too long!')\n",
        "  else:\n",
        "    text_content = text_content[0:100]\n",
        "    client = language_v1.LanguageServiceClient()\n",
        "    type_ = enums.Document.Type.PLAIN_TEXT\n",
        "    language = language\n",
        "    document = {\"content\": text_content, \"type\": type_, \"language\": language}\n",
        "    encoding_type = enums.EncodingType.UTF8\n",
        "    response = client.analyze_entities(document, encoding_type=encoding_type)\n",
        "    for entity in response.entities:\n",
        "        print(u\"Entity Name: {}\".format(entity.name))\n",
        "        print(u\"Entity type: {}\".format(enums.Entity.Type(entity.type).name))\n",
        "        print(u\"Salience score: {}\".format(round(entity.salience,3)))\n",
        "        for metadata_name, metadata_value in entity.metadata.items():\n",
        "            print(u\"{}: {}\".format(metadata_name, metadata_value))\n",
        "        print('\\n')"
      ],
      "metadata": {
        "id": "hSS2zA0VM5gw"
      },
      "execution_count": 41,
      "outputs": []
    },
    {
      "cell_type": "markdown",
      "source": [
        "### Calculate Sentiment Score & Sentiment Magnitute\n",
        "\n",
        "Sentiment Score:\n",
        "- We will be processing the score for now and magnitude in the next bit.\n",
        "- I round to 4 decimal spots. Sentiment score works within a range of -1 to 1. \n",
        "- -1 being most negative, 1 being most positive. \n",
        "\n",
        "Sentiment Magnitute:\n",
        "- Sentiment magnitude expresses the perceived amount of emotion in a text. \n",
        "- First a bit more conditional labeling. Anything between 0-1 is no/little emotion, between  1-2 is low emotion and 2+ is high emotion. \n",
        "- It is noted that often the larger the content set, the larger the magnitude."
      ],
      "metadata": {
        "id": "MHeuoyeKTBL-"
      }
    },
    {
      "cell_type": "code",
      "source": [
        "def Calculate_Sentiment_Score(text_content):\n",
        "  document = types.Document(\n",
        "      content=text_content,\n",
        "      type=enums.Document.Type.PLAIN_TEXT)\n",
        "\n",
        "  sentiment = client.analyze_sentiment(document=document).document_sentiment\n",
        "  sscore = round(sentiment.score,4)\n",
        "  smag = round(sentiment.magnitude,4)\n",
        "\n",
        "  if sscore < 1 and sscore < -0.5:\n",
        "    sent_label = \"Very Negative\"\n",
        "  elif sscore < 0 and sscore > -0.5:\n",
        "    sent_label = \"Negative\"\n",
        "  elif sscore == 0:\n",
        "    sent_label = \"Neutral\"\n",
        "  elif sscore > 0.5:\n",
        "    sent_label = \"Very Positive\"\n",
        "  elif sscore > 0 and sscore < 0.5:\n",
        "    sent_label = \"Positive\"\n",
        "\n",
        "  print('Sentiment Score: {} is {}'.format(sscore,sent_label))\n",
        "\n",
        "  predictedY =[sscore] \n",
        "  UnlabelledY=[0,1,0]\n",
        "\n",
        "  if sscore < 0:\n",
        "      plotcolor = 'red'\n",
        "  else:\n",
        "      plotcolor = 'green'\n",
        "\n",
        "  plt.scatter(predictedY, np.zeros_like(predictedY),color=plotcolor,s=100)\n",
        "\n",
        "  plt.yticks([])\n",
        "  plt.subplots_adjust(top=0.9,bottom=0.8)\n",
        "  plt.xlim(-1,1)\n",
        "  plt.xlabel('Negative                                                            Positive')\n",
        "  plt.title(\"Sentiment Attitude Analysis\")\n",
        "  plt.show()\n",
        "\n",
        "  if smag > 0 and smag < 1:\n",
        "    sent_m_label = \"No Emotion\"\n",
        "  elif smag > 2:\n",
        "    sent_m_label = \"High Emotion\"\n",
        "  elif smag > 1 and smag < 2:\n",
        "    sent_m_label = \"Low Emotion\"\n",
        "\n",
        "  print('Sentiment Magnitude: {} is {}'.format(smag,sent_m_label))\n",
        "\n",
        "  predictedY =[smag] \n",
        "  UnlabelledY=[0,1,0]\n",
        "\n",
        "  if smag > 0 and smag < 2:\n",
        "      plotcolor = 'red'\n",
        "  else:\n",
        "      plotcolor = 'green'\n",
        "\n",
        "  plt.scatter(predictedY, np.zeros_like(predictedY),color=plotcolor,s=100)\n",
        "\n",
        "  plt.yticks([])\n",
        "  plt.subplots_adjust(top=0.9,bottom=0.8)\n",
        "  plt.xlim(0,5)\n",
        "  plt.xlabel('Low Emotion                                                          High Emotion')\n",
        "  plt.title(\"Sentiment Magnitiude Analysis\")\n",
        "  plt.show()"
      ],
      "metadata": {
        "id": "e1dDJMLIKvW5"
      },
      "execution_count": 51,
      "outputs": []
    },
    {
      "cell_type": "markdown",
      "source": [
        "## Error handle\n",
        "1. In 'Identify entity' part, there are two exceptions may be raised because of wrong input\n",
        "\n",
        "\n",
        "*   the input text content is too long(longer than 100 letters), then the program will output a wrong input notification.\n"
      ],
      "metadata": {
        "id": "Ft3_5MJJW0Ww"
      }
    },
    {
      "cell_type": "code",
      "source": [
        "text_content = \"The key to successful internet marketing is to make decisions that make sense for your business, your company and your customers. We work with you to build a custom strategy that drives both visits and conversions.\"\n",
        "identify_entities(text_content, 'en')"
      ],
      "metadata": {
        "colab": {
          "base_uri": "https://localhost:8080/"
        },
        "id": "wHrEuMHJQlV4",
        "outputId": "8245e97c-e884-461d-b739-fa6b9791060e"
      },
      "execution_count": 42,
      "outputs": [
        {
          "output_type": "stream",
          "name": "stdout",
          "text": [
            "Text_content is too long!\n"
          ]
        }
      ]
    },
    {
      "cell_type": "markdown",
      "source": [
        "* the input language is not supported by google NLP, then the program will out put a wrong input notification as well. "
      ],
      "metadata": {
        "id": "aIbrHHjuXujc"
      }
    },
    {
      "cell_type": "code",
      "source": [
        "text_content = \"three-dimensional reconstruction is of great significance in all fields of society.\"\n",
        "identify_entities(text_content, 'xx')"
      ],
      "metadata": {
        "colab": {
          "base_uri": "https://localhost:8080/"
        },
        "id": "ZZabqhomT-NB",
        "outputId": "28d63164-4453-4242-88f8-ead38dcfbd00"
      },
      "execution_count": 48,
      "outputs": [
        {
          "output_type": "stream",
          "name": "stdout",
          "text": [
            "Language not support!\n"
          ]
        }
      ]
    },
    {
      "cell_type": "markdown",
      "source": [
        "## Test Part"
      ],
      "metadata": {
        "id": "LBNtFh54YE7f"
      }
    },
    {
      "cell_type": "markdown",
      "source": [
        "* Identify Entity test:"
      ],
      "metadata": {
        "id": "lzOHqjuDYIH9"
      }
    },
    {
      "cell_type": "code",
      "source": [
        "text_content = \"three-dimensional reconstruction is of great significance in all fields of society.\"\n",
        "identify_entities(text_content, 'en')"
      ],
      "metadata": {
        "colab": {
          "base_uri": "https://localhost:8080/"
        },
        "id": "vvJAZyuDSKNo",
        "outputId": "89976d77-d2fc-495e-fa28-51e3655dcb4c"
      },
      "execution_count": 44,
      "outputs": [
        {
          "output_type": "stream",
          "name": "stdout",
          "text": [
            "Entity Name: reconstruction\n",
            "Entity type: OTHER\n",
            "Salience score: 0.445\n",
            "\n",
            "\n",
            "Entity Name: significance\n",
            "Entity type: OTHER\n",
            "Salience score: 0.272\n",
            "\n",
            "\n",
            "Entity Name: society\n",
            "Entity type: OTHER\n",
            "Salience score: 0.194\n",
            "\n",
            "\n",
            "Entity Name: fields\n",
            "Entity type: OTHER\n",
            "Salience score: 0.089\n",
            "\n",
            "\n",
            "Entity Name: three\n",
            "Entity type: NUMBER\n",
            "Salience score: 0.0\n",
            "value: 3\n",
            "\n",
            "\n"
          ]
        }
      ]
    },
    {
      "cell_type": "markdown",
      "source": [
        "* Sentiment analysis\n"
      ],
      "metadata": {
        "id": "6a6t0-4dYSG_"
      }
    },
    {
      "cell_type": "markdown",
      "source": [
        "Then I used two sentence to test the function of testing the sentiment, one with positive sentiment and another with negative sentiment. \n",
        "\n"
      ],
      "metadata": {
        "id": "0ovDaK8BTs3x"
      }
    },
    {
      "cell_type": "code",
      "source": [
        "text_content = 'I am so happy and joyful!'\n",
        "Calculate_Sentiment_Score(text_content)"
      ],
      "metadata": {
        "colab": {
          "base_uri": "https://localhost:8080/",
          "height": 234
        },
        "id": "N4EkYvOzTY6Q",
        "outputId": "bf8ca236-6c83-4ada-b1b4-70e34acf42dc"
      },
      "execution_count": 52,
      "outputs": [
        {
          "output_type": "stream",
          "name": "stdout",
          "text": [
            "Sentiment Score: 0.9 is Very Positive\n"
          ]
        },
        {
          "output_type": "display_data",
          "data": {
            "image/png": "[encoded data removed]",
            "text/plain": [
              "<Figure size 432x288 with 1 Axes>"
            ]
          },
          "metadata": {
            "needs_background": "light"
          }
        },
        {
          "output_type": "stream",
          "name": "stdout",
          "text": [
            "Sentiment Magnitude: 0.9 is No Emotion\n"
          ]
        },
        {
          "output_type": "display_data",
          "data": {
            "image/png": "[encoded data removed]",
            "text/plain": [
              "<Figure size 432x288 with 1 Axes>"
            ]
          },
          "metadata": {
            "needs_background": "light"
          }
        }
      ]
    },
    {
      "cell_type": "code",
      "source": [
        "text_content = 'What a terrible day!'\n",
        "Calculate_Sentiment_Score(text_content)"
      ],
      "metadata": {
        "colab": {
          "base_uri": "https://localhost:8080/",
          "height": 234
        },
        "id": "T8l5LqMuTlkp",
        "outputId": "4be102dc-0d62-472b-f8a7-1f255f0b7596"
      },
      "execution_count": 53,
      "outputs": [
        {
          "output_type": "stream",
          "name": "stdout",
          "text": [
            "Sentiment Score: -0.8 is Very Negative\n"
          ]
        },
        {
          "output_type": "display_data",
          "data": {
            "image/png": "[encoded data removed]",
            "text/plain": [
              "<Figure size 432x288 with 1 Axes>"
            ]
          },
          "metadata": {
            "needs_background": "light"
          }
        },
        {
          "output_type": "stream",
          "name": "stdout",
          "text": [
            "Sentiment Magnitude: 0.8 is No Emotion\n"
          ]
        },
        {
          "output_type": "display_data",
          "data": {
            "image/png": "[encoded data removed]",
            "text/plain": [
              "<Figure size 432x288 with 1 Axes>"
            ]
          },
          "metadata": {
            "needs_background": "light"
          }
        }
      ]
    }
  ]
}